{
 "cells": [
  {
   "cell_type": "code",
   "execution_count": 2,
   "outputs": [
    {
     "name": "stdout",
     "output_type": "stream",
     "text": [
      "1049.4049835205078\n",
      "158.44998168945312\n"
     ]
    }
   ],
   "source": [
    "import pandas\n",
    "\n",
    "df = pandas.read_csv(\"C:\\\\Users\\\\chena\\\\PycharmProjects\\\\Energy_consumption\\\\jupyter_experiment\\\\output_jupyter\\\\results_Jupyter-lab_run_10.csv\", sep=\",\")\n",
    "\n",
    "print(df[\"CPU_ENERGY (J)\"].iloc[-1])\n",
    "print(df[\"CPU_ENERGY (J)\"].iloc[0])"
   ],
   "metadata": {
    "collapsed": false,
    "ExecuteTime": {
     "end_time": "2025-02-23T00:27:00.822646100Z",
     "start_time": "2025-02-23T00:27:00.357630400Z"
    }
   },
   "id": "2c01890d57c30a56"
  }
 ],
 "metadata": {
  "kernelspec": {
   "display_name": "Python 3",
   "language": "python",
   "name": "python3"
  },
  "language_info": {
   "codemirror_mode": {
    "name": "ipython",
    "version": 2
   },
   "file_extension": ".py",
   "mimetype": "text/x-python",
   "name": "python",
   "nbconvert_exporter": "python",
   "pygments_lexer": "ipython2",
   "version": "2.7.6"
  }
 },
 "nbformat": 4,
 "nbformat_minor": 5
}
